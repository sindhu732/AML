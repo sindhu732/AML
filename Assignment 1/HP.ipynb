{
 "cells": [
  {
   "cell_type": "code",
   "execution_count": 183,
   "metadata": {
    "collapsed": false
   },
   "outputs": [
    {
     "name": "stdout",
     "output_type": "stream",
     "text": [
      "Populating the interactive namespace from numpy and matplotlib\n"
     ]
    },
    {
     "name": "stderr",
     "output_type": "stream",
     "text": [
      "WARNING: pylab import has clobbered these variables: ['plt', 'test']\n",
      "`%matplotlib` prevents importing * from pylab and numpy\n"
     ]
    }
   ],
   "source": [
    "%pylab inline\n",
    "import pandas as pd\n",
    "import numpy as np\n",
    "import matplotlib as plt"
   ]
  },
  {
   "cell_type": "code",
   "execution_count": 184,
   "metadata": {
    "collapsed": true
   },
   "outputs": [],
   "source": [
    "train = pd.read_csv('train.csv')\n",
    "test = pd.read_csv('test.csv')"
   ]
  },
  {
   "cell_type": "code",
   "execution_count": 206,
   "metadata": {
    "collapsed": false
   },
   "outputs": [],
   "source": [
    "labels = train[[0]] \n",
    "labels_copy = train[[0]]\n",
    "features = train[train.columns[1:785]] "
   ]
  },
  {
   "cell_type": "code",
   "execution_count": 207,
   "metadata": {
    "collapsed": false
   },
   "outputs": [],
   "source": [
    "# display MNIST digits\n",
    "def row_to_square(feature):\n",
    "    #print feature[0:28]\n",
    "    square = np.empty([28,28])\n",
    "    for i in range(0,28):                     \n",
    "        square[i,:] = feature[i*28:(i*28)+28]\n",
    "    return square\n",
    "\n",
    "sample_digits = np.empty([10, 784])\n",
    "\n",
    "for i in range(0,10):\n",
    "    for j in range(0,len(labels)):\n",
    "        if labels.loc[j].label == i:\n",
    "            label_digit = labels.loc[j].label \n",
    "            feature_digit = features.loc[j]\n",
    "            sample_digits[i,:] = feature_digit\n",
    "            image_matrix = row_to_square(feature_digit)\n",
    "            plt.pyplot.imsave('mnist_digit' + str(i) + '.png', image_matrix)\n",
    "            break"
   ]
  },
  {
   "cell_type": "code",
   "execution_count": 208,
   "metadata": {
    "collapsed": false
   },
   "outputs": [
    {
     "name": "stdout",
     "output_type": "stream",
     "text": [
      "[[ 4132.  4684.  4178.  4351.  4073.  3796.  4137.  4402.  4063.  4188.]]\n",
      "[[ 1.08851423  1.23393045  1.10063224  1.14620653  1.07297155  1.\n",
      "   1.0898314   1.15964173  1.0703372   1.1032666 ]]\n"
     ]
    },
    {
     "data": {
      "image/png": "[encoded data removed]",
      "text/plain": [
       "<matplotlib.figure.Figure at 0x1b652b38>"
      ]
     },
     "metadata": {},
     "output_type": "display_data"
    }
   ],
   "source": [
    "# prior probability of digits\n",
    "counters = np.empty([1,10]) # prior probability\n",
    "for i in range(0, len(labels)):\n",
    "     counters[0,int(labels.loc[i].label)] += 1\n",
    "print counters\n",
    "\n",
    "print counters/counters.min()\n",
    "count_norm = (counters/counters.min()).transpose()\n",
    "\n",
    "#plt.pyplot.bar(range(10), count_norm)\n",
    "\n",
    "# histogram plot\n",
    "plt.pyplot.hist(labels.label, normed=1)\n",
    "plt.pyplot.title(\"Gaussian Histogram\")\n",
    "plt.pyplot.xlabel(\"Number\")\n",
    "plt.pyplot.ylabel(\"Frequency\")\n",
    "\n",
    "fig = plt.pyplot.gcf()\n",
    "fig.show()\n"
   ]
  },
  {
   "cell_type": "code",
   "execution_count": 212,
   "metadata": {
    "collapsed": false
   },
   "outputs": [
    {
     "name": "stdout",
     "output_type": "stream",
     "text": [
      "0 0 1046.59543282 12950\n",
      "1 1 489.679487012 29704\n",
      "2 2 1380.8772574 9536\n",
      "3 5 1832.66499939 8981\n",
      "4 4 1356.88098225 14787\n",
      "5 5 1066.36766643 30073\n",
      "6 6 1446.51132038 16240\n",
      "7 7 863.501013317 15275\n",
      "8 8 1593.777588 32586\n",
      "9 9 910.576740314 35742\n",
      "[[  1046.59543282    489.67948701   1380.8772574    1832.66499939\n",
      "    1356.88098225   1066.36766643   1446.51132038    863.50101332\n",
      "    1593.777588      910.57674031]\n",
      " [ 12950.          29704.           9536.           8981.          14787.\n",
      "   30073.          16240.          15275.          32586.          35742.        ]]\n"
     ]
    }
   ],
   "source": [
    "#\"Sample Digits\" are in sample_digits\n",
    "\n",
    "# find distance with all digits \n",
    "dist_min = np.empty([2,10]) \n",
    "#labels_copy = labels\n",
    "\n",
    "# find the one with minimum distance\n",
    "for i in range(0,10):\n",
    "    # min is initialised to first feature row\n",
    "    #min = numpy.linalg.norm(sample_digits[i,:]-features.loc[0])\n",
    "    min = 2000\n",
    "    min_index = 0\n",
    "    \n",
    "    # go through the labels \n",
    "    for j in range(0,len(labels)):\n",
    "        # and calculating the dist\n",
    "        dist = numpy.linalg.norm(sample_digits[i,:]-features.loc[j])\n",
    "        \n",
    "        # determine if less than current min and not zero \n",
    "        if dist < min and dist != 0.0:\n",
    "            min = dist               # update min\n",
    "            min_index = j \n",
    "            \n",
    "        # compare labels\n",
    "    if i != labels.loc[min_index].label:\n",
    "        labels_copy.loc[min_index].label = str(labels.loc[min_index].label) + '*'\n",
    "    print i, labels_copy.loc[min_index].label, min, min_index\n",
    "    dist_min[0,i] = min\n",
    "    dist_min[1,i] = min_index\n",
    "        \n",
    "print dist_min"
   ]
  },
  {
   "cell_type": "code",
   "execution_count": 213,
   "metadata": {
    "collapsed": false
   },
   "outputs": [
    {
     "data": {
      "text/plain": [
       "label    5\n",
       "Name: 8981, dtype: int64"
      ]
     },
     "execution_count": 213,
     "metadata": {},
     "output_type": "execute_result"
    }
   ],
   "source": [
    "labels_copy.loc[8981]"
   ]
  }
 ],
 "metadata": {
  "anaconda-cloud": {},
  "kernelspec": {
   "display_name": "Python [Root]",
   "language": "python",
   "name": "Python [Root]"
  },
  "language_info": {
   "codemirror_mode": {
    "name": "ipython",
    "version": 2
   },
   "file_extension": ".py",
   "mimetype": "text/x-python",
   "name": "python",
   "nbconvert_exporter": "python",
   "pygments_lexer": "ipython2",
   "version": "2.7.12"
  }
 },
 "nbformat": 4,
 "nbformat_minor": 0
}
